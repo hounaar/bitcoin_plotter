{
 "cells": [
  {
   "cell_type": "markdown",
   "metadata": {},
   "source": [
    "# ₿itcoin price prediction\n",
    "\n",
    "### BY: PARSA BESHARAT"
   ]
  },
  {
   "cell_type": "markdown",
   "metadata": {},
   "source": [
    "The cryptos which the poeple are investigating in them in these days, are some sort of concern. Its price, the news about them and so on.\n",
    "Prediciting the price of cryptos can help the community to know when to buy ro sell.\n",
    "So, the purpose is to predict the cryptos. there are some ways to predict these ways.One of them is using regressions including polynomial which we have several X in order to predict the final price (Called Yhat)\n",
    "But in this tutorial we get a csv file (Not the live timestamp price from exchanges) which has the X (MaxBuy    MinBuy   MaxSell   MinSell) and we can see the price process in the future(The machine is not doing it **WE** are doing it)"
   ]
  },
  {
   "cell_type": "markdown",
   "metadata": {},
   "source": [
    "#### BITCOIN price prediction using regressions are more accurate and more flexible **BUT** it cannot estimate it carefully because the price is relevant to the sociaty"
   ]
  },
  {
   "cell_type": "markdown",
   "metadata": {},
   "source": [
    "In order to accomplish this purpose we need to import some Python libraries that we use as Numpy, Pandas and matplotlib to plot the diagrams.\n",
    "In this part either Histograms or Scatters can be used which in this practice the scatters is being prefered. "
   ]
  },
  {
   "cell_type": "code",
   "execution_count": 1,
   "metadata": {},
   "outputs": [],
   "source": [
    "import numpy as np\n",
    "import pandas as pd\n",
    "import matplotlib.pyplot as plt"
   ]
  },
  {
   "cell_type": "markdown",
   "metadata": {},
   "source": [
    "Now to load the csv file and set the DataFramein the Pandas library to see what we have."
   ]
  },
  {
   "cell_type": "code",
   "execution_count": 3,
   "metadata": {},
   "outputs": [
    {
     "name": "stdout",
     "output_type": "stream",
     "text": [
      "   Time    MaxBuy    MinBuy   MaxSell   MinSell\n",
      "0    1m  42729.30  51792.56  34319.17  42729.30\n",
      "1    3m  35366.20  56826.13  41232.19  35366.20\n",
      "2    5m  41256.93  50003.63  42093.65  41256.93\n",
      "3   15m  41580.45  39487.36  61208.63  41580.45\n",
      "4   30m  42064.89  41733.21  62954.54  42064.89\n",
      "5   45m  34319.17  39362.56  45693.56  34319.17\n",
      "6    1h  41232.19  42152.23  40743.54  41232.19\n",
      "7    2h  42093.65  40021.25  41565.89  42093.65\n",
      "8    3h  61208.63  48138.45  56826.13  61208.63\n",
      "9    4h  62954.54  42099.56  50003.63  62954.54\n",
      "10    D  45693.56  41563.20  39487.36  45693.56\n",
      "11    W  40743.54  41230.49  41733.21  40743.54\n",
      "12    M  41565.89  46418.52  46418.52  41565.89\n"
     ]
    }
   ],
   "source": [
    "prices = pd.read_csv(\"bitcoin.csv\")\n",
    "df = pd.DataFrame(prices)\n",
    "print(df)"
   ]
  },
  {
   "cell_type": "markdown",
   "metadata": {},
   "source": [
    "Now we set the dataframes where the datas are including **Time, Maxbuy, MinBuy, MaxSell, MinSell**"
   ]
  },
  {
   "cell_type": "code",
   "execution_count": 4,
   "metadata": {},
   "outputs": [
    {
     "data": {
      "text/html": [
       "<div>\n",
       "<style scoped>\n",
       "    .dataframe tbody tr th:only-of-type {\n",
       "        vertical-align: middle;\n",
       "    }\n",
       "\n",
       "    .dataframe tbody tr th {\n",
       "        vertical-align: top;\n",
       "    }\n",
       "\n",
       "    .dataframe thead th {\n",
       "        text-align: right;\n",
       "    }\n",
       "</style>\n",
       "<table border=\"1\" class=\"dataframe\">\n",
       "  <thead>\n",
       "    <tr style=\"text-align: right;\">\n",
       "      <th></th>\n",
       "      <th>Time</th>\n",
       "      <th>MaxBuy</th>\n",
       "      <th>MinBuy</th>\n",
       "      <th>MaxSell</th>\n",
       "      <th>MinSell</th>\n",
       "    </tr>\n",
       "  </thead>\n",
       "  <tbody>\n",
       "    <tr>\n",
       "      <th>0</th>\n",
       "      <td>1m</td>\n",
       "      <td>42729.3</td>\n",
       "      <td>51792.56</td>\n",
       "      <td>34319.17</td>\n",
       "      <td>42729.3</td>\n",
       "    </tr>\n",
       "    <tr>\n",
       "      <th>1</th>\n",
       "      <td>3m</td>\n",
       "      <td>35366.2</td>\n",
       "      <td>56826.13</td>\n",
       "      <td>41232.19</td>\n",
       "      <td>35366.2</td>\n",
       "    </tr>\n",
       "  </tbody>\n",
       "</table>\n",
       "</div>"
      ],
      "text/plain": [
       "  Time   MaxBuy    MinBuy   MaxSell  MinSell\n",
       "0   1m  42729.3  51792.56  34319.17  42729.3\n",
       "1   3m  35366.2  56826.13  41232.19  35366.2"
      ]
     },
     "execution_count": 4,
     "metadata": {},
     "output_type": "execute_result"
    }
   ],
   "source": [
    "rows = df[['Time','MaxBuy','MinBuy','MaxSell','MinSell']]\n",
    "rows.head(2)"
   ]
  },
  {
   "cell_type": "markdown",
   "metadata": {},
   "source": [
    "From this plots **we** can predict the price in futre"
   ]
  },
  {
   "cell_type": "code",
   "execution_count": 5,
   "metadata": {},
   "outputs": [
    {
     "data": {
      "image/png": "[encoded data removed]",
      "text/plain": [
       "<Figure size 432x288 with 1 Axes>"
      ]
     },
     "metadata": {
      "needs_background": "light"
     },
     "output_type": "display_data"
    }
   ],
   "source": [
    "plt.scatter(rows.Time,rows.MaxBuy ,color ='blue')\n",
    "plt.scatter(rows.Time,rows.MinBuy ,color ='green')\n",
    "plt.scatter(rows.Time,rows.MaxSell ,color ='red')\n",
    "plt.scatter(rows.Time,rows.MinSell ,color ='orange')\n",
    "plt.xlabel(\"time\")\n",
    "plt.ylabel(\"price\")\n",
    "plt.show()"
   ]
  }
 ],
 "metadata": {
  "interpreter": {
   "hash": "97cc609b13305c559618ec78a438abc56230b9381f827f22d070313b9a1f3777"
  },
  "kernelspec": {
   "display_name": "Python 3.10.4 64-bit",
   "language": "python",
   "name": "python3"
  },
  "language_info": {
   "codemirror_mode": {
    "name": "ipython",
    "version": 3
   },
   "file_extension": ".py",
   "mimetype": "text/x-python",
   "name": "python",
   "nbconvert_exporter": "python",
   "pygments_lexer": "ipython3",
   "version": "3.10.4"
  },
  "orig_nbformat": 4
 },
 "nbformat": 4,
 "nbformat_minor": 2
}
