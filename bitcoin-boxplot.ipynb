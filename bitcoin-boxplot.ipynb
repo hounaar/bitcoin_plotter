{
 "cells": [
  {
   "cell_type": "markdown",
   "metadata": {},
   "source": [
    "# ₿itcoin price - BoxPlot\n",
    "\n",
    "### BY: PARSA BESHARAT"
   ]
  },
  {
   "cell_type": "markdown",
   "metadata": {},
   "source": [
    "In order to accomplish this purpose we need to import some Python libraries that we use as Numpy, Pandas and matplotlib to plot the diagrams.\n",
    "In this part either Histograms or Scatters can be used which in this practice the scatters is being prefered. "
   ]
  },
  {
   "cell_type": "code",
   "execution_count": 1,
   "metadata": {},
   "outputs": [],
   "source": [
    "import numpy as np\n",
    "import pandas as pd\n",
    "import matplotlib.pyplot as plt\n",
    "import seaborn as sns"
   ]
  },
  {
   "cell_type": "markdown",
   "metadata": {},
   "source": [
    "Now to load the csv file and set the DataFramein the Pandas library to see what we have.\n",
    "here we just see the top 5 rows with the head function.\n",
    "this function is without any arguments and as default will return the top 5 rows"
   ]
  },
  {
   "cell_type": "code",
   "execution_count": 2,
   "metadata": {},
   "outputs": [
    {
     "data": {
      "text/html": [
       "<div>\n",
       "<style scoped>\n",
       "    .dataframe tbody tr th:only-of-type {\n",
       "        vertical-align: middle;\n",
       "    }\n",
       "\n",
       "    .dataframe tbody tr th {\n",
       "        vertical-align: top;\n",
       "    }\n",
       "\n",
       "    .dataframe thead th {\n",
       "        text-align: right;\n",
       "    }\n",
       "</style>\n",
       "<table border=\"1\" class=\"dataframe\">\n",
       "  <thead>\n",
       "    <tr style=\"text-align: right;\">\n",
       "      <th></th>\n",
       "      <th>MaxBuy</th>\n",
       "      <th>MinBuy</th>\n",
       "      <th>MaxSell</th>\n",
       "      <th>MinSell</th>\n",
       "    </tr>\n",
       "  </thead>\n",
       "  <tbody>\n",
       "    <tr>\n",
       "      <th>0</th>\n",
       "      <td>42729.30</td>\n",
       "      <td>51792.56</td>\n",
       "      <td>34319.17</td>\n",
       "      <td>42729.30</td>\n",
       "    </tr>\n",
       "    <tr>\n",
       "      <th>1</th>\n",
       "      <td>35366.20</td>\n",
       "      <td>56826.13</td>\n",
       "      <td>41232.19</td>\n",
       "      <td>35366.20</td>\n",
       "    </tr>\n",
       "    <tr>\n",
       "      <th>2</th>\n",
       "      <td>41256.93</td>\n",
       "      <td>50003.63</td>\n",
       "      <td>42093.65</td>\n",
       "      <td>41256.93</td>\n",
       "    </tr>\n",
       "    <tr>\n",
       "      <th>3</th>\n",
       "      <td>41580.45</td>\n",
       "      <td>39487.36</td>\n",
       "      <td>61208.63</td>\n",
       "      <td>41580.45</td>\n",
       "    </tr>\n",
       "    <tr>\n",
       "      <th>4</th>\n",
       "      <td>42064.89</td>\n",
       "      <td>41733.21</td>\n",
       "      <td>62954.54</td>\n",
       "      <td>42064.89</td>\n",
       "    </tr>\n",
       "  </tbody>\n",
       "</table>\n",
       "</div>"
      ],
      "text/plain": [
       "     MaxBuy    MinBuy   MaxSell   MinSell\n",
       "0  42729.30  51792.56  34319.17  42729.30\n",
       "1  35366.20  56826.13  41232.19  35366.20\n",
       "2  41256.93  50003.63  42093.65  41256.93\n",
       "3  41580.45  39487.36  61208.63  41580.45\n",
       "4  42064.89  41733.21  62954.54  42064.89"
      ]
     },
     "execution_count": 2,
     "metadata": {},
     "output_type": "execute_result"
    }
   ],
   "source": [
    "file = pd.read_csv(\"bitcoin.csv\")\n",
    "df = pd.DataFrame(file)\n",
    "df.head()"
   ]
  },
  {
   "cell_type": "markdown",
   "metadata": {},
   "source": [
    "Now all we have to do is to set the titles of the dataframe part in rows and set it to show the boxplot form."
   ]
  },
  {
   "cell_type": "code",
   "execution_count": 7,
   "metadata": {},
   "outputs": [
    {
     "data": {
      "text/plain": [
       "<AxesSubplot:>"
      ]
     },
     "execution_count": 7,
     "metadata": {},
     "output_type": "execute_result"
    },
    {
     "data": {
      "image/png": "[encoded data removed]",
      "text/plain": [
       "<Figure size 432x288 with 1 Axes>"
      ]
     },
     "metadata": {
      "needs_background": "light"
     },
     "output_type": "display_data"
    }
   ],
   "source": [
    "df.boxplot()\n"
   ]
  }
 ],
 "metadata": {
  "interpreter": {
   "hash": "e7370f93d1d0cde622a1f8e1c04877d8463912d04d973331ad4851f04de6915a"
  },
  "kernelspec": {
   "display_name": "Python 3.10.4 64-bit",
   "language": "python",
   "name": "python3"
  },
  "language_info": {
   "codemirror_mode": {
    "name": "ipython",
    "version": 3
   },
   "file_extension": ".py",
   "mimetype": "text/x-python",
   "name": "python",
   "nbconvert_exporter": "python",
   "pygments_lexer": "ipython3",
   "version": "3.10.4"
  },
  "orig_nbformat": 4
 },
 "nbformat": 4,
 "nbformat_minor": 2
}
